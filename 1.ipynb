{
 "cells": [
  {
   "cell_type": "code",
   "execution_count": null,
   "metadata": {},
   "outputs": [],
   "source": [
    "#1 pepper, Exercise 2\n",
    "#Ask the user for a number. Depending on whether the number is even or odd, print out an appropriate message to the user.\n",
    "\n",
    "n = int(input(\"Введите число :  \"))\n",
    "\n",
    "if n % 2 == 0:\n",
    "    print(\"Число четное\")\n",
    "else:\n",
    "    print(\"Число нечетное\")"
   ]
  },
  {
   "cell_type": "code",
   "execution_count": null,
   "metadata": {},
   "outputs": [],
   "source": [
    "#2 peppers, Exercise 3\n",
    "#Take a list, say for example this one:\n",
    "#a = [1, 1, 2, 3, 5, 8, 13, 21, 34, 55, 89]\n",
    "#and write a program that prints out all the elements of the list that are less than 5.\n",
    "\n",
    "a = [1, 1, 2, 3, 5, 8, 13, 21, 34, 55, 89]\n",
    "print([ n for n in a if n < 5])"
   ]
  },
  {
   "cell_type": "code",
   "execution_count": null,
   "metadata": {},
   "outputs": [],
   "source": [
    "#3 peppers, Exercise 8\n",
    "#Make a two-player Rock-Paper-Scissors game.\n",
    "\n",
    "def rps(p1, p2):\n",
    "    \n",
    "    p1 = input(\"Игрок 1, камень, ножницы или бумага? :  \")\n",
    "    p2 = input(\"Игрок 2, камень, ножницы или бумага? :  \")\n",
    "   \n",
    "    if p1 == p2:\n",
    "        print(\"Ничья!\")\n",
    "    elif p1 == 'камень':\n",
    "        if p2 == 'ножницы':\n",
    "            print(\"Игрок 1 выиграл!\")\n",
    "        else:\n",
    "            print(\"Игрок 2 выиграл!\")\n",
    "    elif p1 == 'ножницы':\n",
    "        if p2 == 'бумага':\n",
    "            print(\"Игрок 1 выиграл!\")\n",
    "        else:\n",
    "            print(\"Игрок 2 выиграл!\")\n",
    "    elif p1 == 'бумага':\n",
    "        if p2 == 'камень':\n",
    "            print(\"Игрок 1 выиграл!\")\n",
    "        else:\n",
    "            print(\"Игрок 2 выиграл!\")\n",
    "    else:\n",
    "        print(\"Неверный выбор, начните игру заново.\")\n",
    "    playAgain(player1, player2)\n",
    "\n",
    "def playAgain(p1,p2):\n",
    "    ans = input(\"Хотите сыграть еще раз? Да/Нет :  \")\n",
    "    if ans == 'да' or ans == 'Да':\n",
    "        rps(p1,p2)\n",
    "    else:\n",
    "        print (\"Спасибо за игру!\")\n",
    "        \n",
    "\n",
    "\n",
    "player1 = input(\"Игрок 1, хотите сыграть в 'Камень, ножницы, бумага'? Да/Нет : \")\n",
    "player2 = input(\"Игрок 2, хотите сыграть в 'Камень, ножницы, бумага'? Да/Нет : \")\n",
    "if player1 == 'нет' or player2 == 'нет' or player1 == 'Нет' or player1 == 'Нет':\n",
    "    print (\"До встречи!\")\n",
    "elif (player1 == 'да' and player2 == 'да') or (player1 == 'Да' and player2 == 'Да')  or (player1 == 'да' and player2 == 'Да')  or (player1 == 'Да' and player2 == 'да'):\n",
    "    rps(player1, player2)\n",
    "else : \n",
    "    print(\"Неверный выбор, начните игру заново.\")\n"
   ]
  },
  {
   "cell_type": "code",
   "execution_count": null,
   "metadata": {},
   "outputs": [],
   "source": [
    "#4 peppers, Exercise 16\n",
    "#Write a password generator in Python.\n",
    "\n",
    "import string\n",
    "import random\n",
    "\n",
    "len = int(input(\"Введите необходимую длину для пароля :  \"))\n",
    "array=string.ascii_letters + string.digits + string.punctuation\n",
    "passw = ''.join(random.choice(array) for _ in range(len))\n",
    "print (passw)\n",
    "\n"
   ]
  }
 ],
 "metadata": {
  "kernelspec": {
   "display_name": "Python 3",
   "language": "python",
   "name": "python3"
  },
  "language_info": {
   "codemirror_mode": {
    "name": "ipython",
    "version": 3
   },
   "file_extension": ".py",
   "mimetype": "text/x-python",
   "name": "python",
   "nbconvert_exporter": "python",
   "pygments_lexer": "ipython3",
   "version": "3.7.1"
  }
 },
 "nbformat": 4,
 "nbformat_minor": 2
}
