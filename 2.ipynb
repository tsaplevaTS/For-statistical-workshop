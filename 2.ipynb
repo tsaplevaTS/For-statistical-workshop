{
 "cells": [
  {
   "cell_type": "code",
   "execution_count": null,
   "metadata": {},
   "outputs": [],
   "source": [
    "#1 Создайте двумерный массив 10x3, заполненный случайными значениями. \n",
    "#  В каждой строке выберите значение, наиболее близкое к 0.5.\n",
    "\n",
    "import numpy as np\n",
    "\n",
    "a = np.random.random((10, 3))\n",
    "print(np.matrix(a))\n",
    "i = 0\n",
    "while i < (len(a)) : \n",
    "    print(\"В \", i + 1, \"строке : \",min(a[i], key = lambda x: abs(x - 0.5)) )\n",
    "    i = i + 1"
   ]
  },
  {
   "cell_type": "code",
   "execution_count": null,
   "metadata": {},
   "outputs": [],
   "source": [
    "#2 Создайте двумерный массив 6x6, заполненный случайными значениями.\n",
    "#  Затем сумму по каждой строке поделите на минимальный элемент из столбца с тем же индексом.\n",
    "\n",
    "import numpy as np\n",
    "\n",
    "a = np.random.random((6, 6))\n",
    "print(np.matrix(a))\n",
    "i = 0\n",
    "while i < (len(a)) :\n",
    "    print (\"Cумма элементов \", i+1, \"-ой строки / минимум из \", i+1, \"-го столбца :  \", sum(a[i])/min(a.transpose()[i]))\n",
    "    i = i + 1\n"
   ]
  },
  {
   "cell_type": "code",
   "execution_count": null,
   "metadata": {},
   "outputs": [],
   "source": [
    "#3 На примере массива x = np.array([6, 2, 0, 3, 0, 0, 5, 7, 0]) \n",
    "#  найдите максимальный элемент в массиве среди элементов, перед которыми стоит ноль\n",
    "\n",
    "import numpy as np\n",
    "\n",
    "x = np.array([6, 2, 0, 3, 0, 0, 5, 7, 0])\n",
    "i = 0\n",
    "ind = 0 #индикатор наличия элементов, перед которыми стоит 0\n",
    "while i < len(x) - 1 and ind == 0: #может быть так, что нужных элементов в массиве не будет вообще [1, 1, 1, 1, 0] \n",
    "    if x[i] == 0 :\n",
    "        ind = 1\n",
    "    i = i + 1\n",
    "if ind == 0 :\n",
    "    print (\"В массиве нет элементов, перед которым стоит 0\")\n",
    "else :\n",
    "    print(\"Максимальный элемент, перед которыми стоит ноль : \", max(np.array([x[i] for i in range(1,len(x)) if x[i-1] == 0])))"
   ]
  },
  {
   "cell_type": "code",
   "execution_count": null,
   "metadata": {},
   "outputs": [],
   "source": [
    "#4 Пусть заданы два массива x = np.ones(10) и i = np.array([0, 1, 2, 3, 5, 5, 5, 8]). \n",
    "#  Прибавьте единицу к тем элементам массива x, индексы которых указаны в массиве i. \n",
    "#  В случае, если некоторый индекс встретился в массиве i несколько раз, \n",
    "#  прибавьте к соответствующему элементу массива x число вхождений данного индекса в массив i.\n",
    "\n",
    "import numpy as np\n",
    "\n",
    "x = np.ones(10)\n",
    "i = np.array([0, 1, 2, 3, 5, 5, 5, 8])\n",
    "print(np.array([x[j]+i.tolist().count(j) for j in range(len(x))]))"
   ]
  },
  {
   "cell_type": "code",
   "execution_count": null,
   "metadata": {},
   "outputs": [],
   "source": [
    "#5 По заданному двумерному массиву размера NxN постройте словарь, ключи которого - индексы диагоналей, \n",
    "#  параллельных побочной, а значения - списки элементов исходного массива, лежащих на соответствующих диагоналях.\n",
    "\n",
    "import numpy as np\n",
    "\n",
    "a = np.arange(16).reshape(4, 4)\n",
    "print(np.matrix(a))\n",
    "a = np.array([a[i][::-1] for i in range(4)]) #т.к. ф-я numpy.diagonal возвращает диагонали, паралл-е главной\n",
    "print({i:a.diagonal(3-i).tolist() for i in range (len(a)*2-1)})"
   ]
  },
  {
   "cell_type": "code",
   "execution_count": null,
   "metadata": {},
   "outputs": [],
   "source": [
    "#6\n",
    "import numpy as np\n",
    "import matplotlib.pyplot as plt\n",
    "\n",
    "def _kmeans(data, k):\n",
    "    centers = np.random.rand(k,2)\n",
    "    _y =[]\n",
    "    while True:\n",
    "        dist = np.array([[np.linalg.norm(data[i]-centers[j]) for j in range(k)] for i in range(data.shape[0])])\n",
    "        y = np.array([dist[i].argmin() for i in range(data.shape[0])]).reshape(data.shape[0],1)\n",
    "        if (np.array_equal(y,_y)):\n",
    "            break\n",
    "        _y=y\n",
    "        a_x = np.array([np.mean([data[i][0] for i in range(data.shape[0]) if y[i]==j] + [centers[j][0]]) for j in range(k)]).reshape(k,1)\n",
    "        a_y = np.array([np.mean([data[i][1] for i in range(data.shape[0]) if y[i]==j] + [centers[j][1]]) for j in range(k)]).reshape(k,1)\n",
    "        centers = np.array([[a_x[i], a_y[i]] for i in range(k)]).reshape(k,2)\n",
    "    d = 0\n",
    "    for i in range(k):\n",
    "        for j in range(data.shape[0]):\n",
    "            if y[j] == i:\n",
    "                d += np.linalg.norm(centers[i] - data[j])*np.linalg.norm(centers[i] - data[j])\n",
    "    return [d, y]\n",
    "n = int(input(\"Введите число точек : \"))\n",
    "k = 15\n",
    "data = np.random.rand(n,2)\n",
    "[d, y] = _kmeans(data, k)\n",
    "print(\"Отклонение : \",d)\n",
    "plt.scatter(*data.T, c = y[:,0], s = 15)\n",
    "plt.show()\n"
   ]
  }
 ],
 "metadata": {
  "kernelspec": {
   "display_name": "Python 3",
   "language": "python",
   "name": "python3"
  },
  "language_info": {
   "codemirror_mode": {
    "name": "ipython",
    "version": 3
   },
   "file_extension": ".py",
   "mimetype": "text/x-python",
   "name": "python",
   "nbconvert_exporter": "python",
   "pygments_lexer": "ipython3",
   "version": "3.7.1"
  }
 },
 "nbformat": 4,
 "nbformat_minor": 2
}
