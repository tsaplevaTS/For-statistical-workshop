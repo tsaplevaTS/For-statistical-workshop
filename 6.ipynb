{
 "cells": [
  {
   "cell_type": "code",
   "execution_count": 6,
   "metadata": {},
   "outputs": [
    {
     "name": "stdout",
     "output_type": "stream",
     "text": [
      "Число наблюдений в обучающей выборке\n",
      " (11314,)\n",
      "Число наблюдений в тестовой выборке\n",
      " (7532,)\n",
      "Список новостных рубрик:\n",
      "['alt.atheism',\n",
      " 'comp.graphics',\n",
      " 'comp.os.ms-windows.misc',\n",
      " 'comp.sys.ibm.pc.hardware',\n",
      " 'comp.sys.mac.hardware',\n",
      " 'comp.windows.x',\n",
      " 'misc.forsale',\n",
      " 'rec.autos',\n",
      " 'rec.motorcycles',\n",
      " 'rec.sport.baseball',\n",
      " 'rec.sport.hockey',\n",
      " 'sci.crypt',\n",
      " 'sci.electronics',\n",
      " 'sci.med',\n",
      " 'sci.space',\n",
      " 'soc.religion.christian',\n",
      " 'talk.politics.guns',\n",
      " 'talk.politics.mideast',\n",
      " 'talk.politics.misc',\n",
      " 'talk.religion.misc']\n",
      "Точность классификации – доля верно классифицированных объектов из тестовой выборки: \n",
      " 0.6498937865108869\n",
      "Общий балл для классификации по метрике f1: \n",
      " 0.6234585896563603\n"
     ]
    }
   ],
   "source": [
    "from sklearn.datasets import fetch_20newsgroups \n",
    "from pprint import pprint\n",
    "from sklearn.feature_extraction.text import CountVectorizer \n",
    "from sklearn.naive_bayes import ComplementNB \n",
    "from sklearn import metrics \n",
    "\n",
    "newsgroups_train = fetch_20newsgroups(subset='train', remove=('headers', 'footers', 'quotes')) \n",
    "newsgroups_test = fetch_20newsgroups(subset='test', remove=('headers', 'footers', 'quotes')) \n",
    "\n",
    "print(\"Число наблюдений в обучающей выборке\\n\", newsgroups_train.filenames.shape)\n",
    "print(\"Число наблюдений в тестовой выборке\\n\", newsgroups_test.filenames.shape)\n",
    "print(\"Список новостных рубрик:\")\n",
    "pprint(list(newsgroups_train.target_names))\n",
    "\n",
    "# Приведение данных к document-term матрице\n",
    "vectorizer = CountVectorizer()\n",
    "X_train = vectorizer.fit_transform(newsgroups_train.data)\n",
    "X_test = vectorizer.transform(newsgroups_test.data) \n",
    "\n",
    "# Обучение модели и тестирование\n",
    "clf = ComplementNB(alpha=.01) \n",
    "clf.fit(X_train, newsgroups_train.target) \n",
    "pred = clf.predict(X_test) \n",
    "\n",
    "# Точность классификации\n",
    "print(\"Точность классификации – доля верно классифицированных объектов из тестовой выборки: \\n\", \n",
    "      metrics.accuracy_score(newsgroups_test.target, pred, normalize=True))\n",
    "print(\"Общий балл для классификации по метрике f1: \\n\", \n",
    "     metrics.f1_score(newsgroups_test.target, pred, average='macro'))"
   ]
  }
 ],
 "metadata": {
  "kernelspec": {
   "display_name": "Python 3",
   "language": "python",
   "name": "python3"
  },
  "language_info": {
   "codemirror_mode": {
    "name": "ipython",
    "version": 3
   },
   "file_extension": ".py",
   "mimetype": "text/x-python",
   "name": "python",
   "nbconvert_exporter": "python",
   "pygments_lexer": "ipython3",
   "version": "3.7.1"
  }
 },
 "nbformat": 4,
 "nbformat_minor": 2
}
